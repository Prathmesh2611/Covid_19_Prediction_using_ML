{
 "cells": [
  {
   "cell_type": "markdown",
   "metadata": {},
   "source": [
    "<spam color=orange> || जय श्री राम || <spam>"
   ]
  },
  {
   "cell_type": "markdown",
   "metadata": {},
   "source": [
    "- Name = Prathmeshh Bhimraj Bhukele\n",
    "- Contact = 8291159068\n",
    "- Email = prathmeshbb26@gmail.com"
   ]
  },
  {
   "cell_type": "code",
   "execution_count": 2,
   "metadata": {},
   "outputs": [],
   "source": [
    "import pandas as pd\n",
    "import numpy as nnp\n",
    "import seaborn as sns"
   ]
  },
  {
   "cell_type": "markdown",
   "metadata": {},
   "source": [
    "# Expolring Data"
   ]
  },
  {
   "cell_type": "code",
   "execution_count": 3,
   "metadata": {},
   "outputs": [
    {
     "name": "stderr",
     "output_type": "stream",
     "text": [
      "C:\\Users\\Prathmesh\\AppData\\Local\\Temp\\ipykernel_3160\\4097845016.py:1: DtypeWarning: Columns (2,3,4,5,6,8) have mixed types. Specify dtype option on import or set low_memory=False.\n",
      "  covid = pd.read_csv(\"covidtest.csv\")\n"
     ]
    }
   ],
   "source": [
    "covid = pd.read_csv(\"covidtest.csv\")"
   ]
  },
  {
   "cell_type": "code",
   "execution_count": 11,
   "metadata": {},
   "outputs": [
    {
     "name": "stdout",
     "output_type": "stream",
     "text": [
      "<class 'pandas.core.frame.DataFrame'>\n",
      "RangeIndex: 278848 entries, 0 to 278847\n",
      "Data columns (total 11 columns):\n",
      " #   Column               Non-Null Count   Dtype \n",
      "---  ------               --------------   ----- \n",
      " 0   Ind_ID               278848 non-null  int64 \n",
      " 1   Test_date            278848 non-null  object\n",
      " 2   Cough_symptoms       278596 non-null  object\n",
      " 3   Fever                278596 non-null  object\n",
      " 4   Sore_throat          278847 non-null  object\n",
      " 5   Shortness_of_breath  278847 non-null  object\n",
      " 6   Headache             278847 non-null  object\n",
      " 7   Corona               278848 non-null  object\n",
      " 8   Age_60_above         151528 non-null  object\n",
      " 9   Sex                  259285 non-null  object\n",
      " 10  Known_contact        278848 non-null  object\n",
      "dtypes: int64(1), object(10)\n",
      "memory usage: 23.4+ MB\n"
     ]
    }
   ],
   "source": [
    "covid.info()"
   ]
  },
  {
   "cell_type": "code",
   "execution_count": 5,
   "metadata": {},
   "outputs": [
    {
     "data": {
      "text/html": [
       "<div>\n",
       "<style scoped>\n",
       "    .dataframe tbody tr th:only-of-type {\n",
       "        vertical-align: middle;\n",
       "    }\n",
       "\n",
       "    .dataframe tbody tr th {\n",
       "        vertical-align: top;\n",
       "    }\n",
       "\n",
       "    .dataframe thead th {\n",
       "        text-align: right;\n",
       "    }\n",
       "</style>\n",
       "<table border=\"1\" class=\"dataframe\">\n",
       "  <thead>\n",
       "    <tr style=\"text-align: right;\">\n",
       "      <th></th>\n",
       "      <th>Ind_ID</th>\n",
       "      <th>Test_date</th>\n",
       "      <th>Cough_symptoms</th>\n",
       "      <th>Fever</th>\n",
       "      <th>Sore_throat</th>\n",
       "      <th>Shortness_of_breath</th>\n",
       "      <th>Headache</th>\n",
       "      <th>Corona</th>\n",
       "      <th>Age_60_above</th>\n",
       "      <th>Sex</th>\n",
       "      <th>Known_contact</th>\n",
       "    </tr>\n",
       "  </thead>\n",
       "  <tbody>\n",
       "    <tr>\n",
       "      <th>0</th>\n",
       "      <td>1</td>\n",
       "      <td>11-03-2020</td>\n",
       "      <td>True</td>\n",
       "      <td>False</td>\n",
       "      <td>True</td>\n",
       "      <td>False</td>\n",
       "      <td>False</td>\n",
       "      <td>negative</td>\n",
       "      <td>NaN</td>\n",
       "      <td>NaN</td>\n",
       "      <td>Abroad</td>\n",
       "    </tr>\n",
       "    <tr>\n",
       "      <th>1</th>\n",
       "      <td>2</td>\n",
       "      <td>11-03-2020</td>\n",
       "      <td>False</td>\n",
       "      <td>True</td>\n",
       "      <td>False</td>\n",
       "      <td>False</td>\n",
       "      <td>False</td>\n",
       "      <td>positive</td>\n",
       "      <td>NaN</td>\n",
       "      <td>NaN</td>\n",
       "      <td>Abroad</td>\n",
       "    </tr>\n",
       "    <tr>\n",
       "      <th>2</th>\n",
       "      <td>3</td>\n",
       "      <td>11-03-2020</td>\n",
       "      <td>False</td>\n",
       "      <td>True</td>\n",
       "      <td>False</td>\n",
       "      <td>False</td>\n",
       "      <td>False</td>\n",
       "      <td>positive</td>\n",
       "      <td>NaN</td>\n",
       "      <td>NaN</td>\n",
       "      <td>Abroad</td>\n",
       "    </tr>\n",
       "    <tr>\n",
       "      <th>3</th>\n",
       "      <td>4</td>\n",
       "      <td>11-03-2020</td>\n",
       "      <td>True</td>\n",
       "      <td>False</td>\n",
       "      <td>False</td>\n",
       "      <td>False</td>\n",
       "      <td>False</td>\n",
       "      <td>negative</td>\n",
       "      <td>NaN</td>\n",
       "      <td>NaN</td>\n",
       "      <td>Abroad</td>\n",
       "    </tr>\n",
       "    <tr>\n",
       "      <th>4</th>\n",
       "      <td>5</td>\n",
       "      <td>11-03-2020</td>\n",
       "      <td>True</td>\n",
       "      <td>False</td>\n",
       "      <td>False</td>\n",
       "      <td>False</td>\n",
       "      <td>False</td>\n",
       "      <td>negative</td>\n",
       "      <td>NaN</td>\n",
       "      <td>NaN</td>\n",
       "      <td>Contact with confirmed</td>\n",
       "    </tr>\n",
       "  </tbody>\n",
       "</table>\n",
       "</div>"
      ],
      "text/plain": [
       "   Ind_ID   Test_date Cough_symptoms  Fever Sore_throat Shortness_of_breath  \\\n",
       "0       1  11-03-2020           True  False        True               False   \n",
       "1       2  11-03-2020          False   True       False               False   \n",
       "2       3  11-03-2020          False   True       False               False   \n",
       "3       4  11-03-2020           True  False       False               False   \n",
       "4       5  11-03-2020           True  False       False               False   \n",
       "\n",
       "  Headache    Corona Age_60_above  Sex           Known_contact  \n",
       "0    False  negative          NaN  NaN                  Abroad  \n",
       "1    False  positive          NaN  NaN                  Abroad  \n",
       "2    False  positive          NaN  NaN                  Abroad  \n",
       "3    False  negative          NaN  NaN                  Abroad  \n",
       "4    False  negative          NaN  NaN  Contact with confirmed  "
      ]
     },
     "execution_count": 5,
     "metadata": {},
     "output_type": "execute_result"
    }
   ],
   "source": [
    "covid.head()"
   ]
  },
  {
   "cell_type": "code",
   "execution_count": 8,
   "metadata": {},
   "outputs": [
    {
     "data": {
      "text/plain": [
       "(278848, 11)"
      ]
     },
     "execution_count": 8,
     "metadata": {},
     "output_type": "execute_result"
    }
   ],
   "source": [
    "covid.shape"
   ]
  },
  {
   "cell_type": "code",
   "execution_count": 10,
   "metadata": {},
   "outputs": [
    {
     "data": {
      "text/plain": [
       "Ind_ID                      0\n",
       "Test_date                   0\n",
       "Cough_symptoms            252\n",
       "Fever                     252\n",
       "Sore_throat                 1\n",
       "Shortness_of_breath         1\n",
       "Headache                    1\n",
       "Corona                      0\n",
       "Age_60_above           127320\n",
       "Sex                     19563\n",
       "Known_contact               0\n",
       "dtype: int64"
      ]
     },
     "execution_count": 10,
     "metadata": {},
     "output_type": "execute_result"
    }
   ],
   "source": [
    "covid.isnull().sum()"
   ]
  },
  {
   "cell_type": "code",
   "execution_count": 13,
   "metadata": {},
   "outputs": [
    {
     "data": {
      "text/html": [
       "<div>\n",
       "<style scoped>\n",
       "    .dataframe tbody tr th:only-of-type {\n",
       "        vertical-align: middle;\n",
       "    }\n",
       "\n",
       "    .dataframe tbody tr th {\n",
       "        vertical-align: top;\n",
       "    }\n",
       "\n",
       "    .dataframe thead th {\n",
       "        text-align: right;\n",
       "    }\n",
       "</style>\n",
       "<table border=\"1\" class=\"dataframe\">\n",
       "  <thead>\n",
       "    <tr style=\"text-align: right;\">\n",
       "      <th></th>\n",
       "      <th>Ind_ID</th>\n",
       "      <th>Test_date</th>\n",
       "      <th>Cough_symptoms</th>\n",
       "      <th>Fever</th>\n",
       "      <th>Sore_throat</th>\n",
       "      <th>Shortness_of_breath</th>\n",
       "      <th>Headache</th>\n",
       "      <th>Corona</th>\n",
       "      <th>Age_60_above</th>\n",
       "      <th>Sex</th>\n",
       "      <th>Known_contact</th>\n",
       "    </tr>\n",
       "  </thead>\n",
       "  <tbody>\n",
       "    <tr>\n",
       "      <th>count</th>\n",
       "      <td>278848.000000</td>\n",
       "      <td>278848</td>\n",
       "      <td>278596</td>\n",
       "      <td>278596</td>\n",
       "      <td>278847</td>\n",
       "      <td>278847</td>\n",
       "      <td>278847</td>\n",
       "      <td>278848</td>\n",
       "      <td>151528</td>\n",
       "      <td>259285</td>\n",
       "      <td>278848</td>\n",
       "    </tr>\n",
       "    <tr>\n",
       "      <th>unique</th>\n",
       "      <td>NaN</td>\n",
       "      <td>51</td>\n",
       "      <td>2</td>\n",
       "      <td>2</td>\n",
       "      <td>2</td>\n",
       "      <td>2</td>\n",
       "      <td>2</td>\n",
       "      <td>3</td>\n",
       "      <td>2</td>\n",
       "      <td>2</td>\n",
       "      <td>3</td>\n",
       "    </tr>\n",
       "    <tr>\n",
       "      <th>top</th>\n",
       "      <td>NaN</td>\n",
       "      <td>20-04-2020</td>\n",
       "      <td>False</td>\n",
       "      <td>False</td>\n",
       "      <td>False</td>\n",
       "      <td>False</td>\n",
       "      <td>False</td>\n",
       "      <td>negative</td>\n",
       "      <td>No</td>\n",
       "      <td>female</td>\n",
       "      <td>Other</td>\n",
       "    </tr>\n",
       "    <tr>\n",
       "      <th>freq</th>\n",
       "      <td>NaN</td>\n",
       "      <td>10921</td>\n",
       "      <td>236368</td>\n",
       "      <td>256844</td>\n",
       "      <td>276921</td>\n",
       "      <td>277270</td>\n",
       "      <td>276433</td>\n",
       "      <td>260227</td>\n",
       "      <td>125703</td>\n",
       "      <td>130158</td>\n",
       "      <td>242741</td>\n",
       "    </tr>\n",
       "    <tr>\n",
       "      <th>mean</th>\n",
       "      <td>139424.500000</td>\n",
       "      <td>NaN</td>\n",
       "      <td>NaN</td>\n",
       "      <td>NaN</td>\n",
       "      <td>NaN</td>\n",
       "      <td>NaN</td>\n",
       "      <td>NaN</td>\n",
       "      <td>NaN</td>\n",
       "      <td>NaN</td>\n",
       "      <td>NaN</td>\n",
       "      <td>NaN</td>\n",
       "    </tr>\n",
       "    <tr>\n",
       "      <th>std</th>\n",
       "      <td>80496.628269</td>\n",
       "      <td>NaN</td>\n",
       "      <td>NaN</td>\n",
       "      <td>NaN</td>\n",
       "      <td>NaN</td>\n",
       "      <td>NaN</td>\n",
       "      <td>NaN</td>\n",
       "      <td>NaN</td>\n",
       "      <td>NaN</td>\n",
       "      <td>NaN</td>\n",
       "      <td>NaN</td>\n",
       "    </tr>\n",
       "    <tr>\n",
       "      <th>min</th>\n",
       "      <td>1.000000</td>\n",
       "      <td>NaN</td>\n",
       "      <td>NaN</td>\n",
       "      <td>NaN</td>\n",
       "      <td>NaN</td>\n",
       "      <td>NaN</td>\n",
       "      <td>NaN</td>\n",
       "      <td>NaN</td>\n",
       "      <td>NaN</td>\n",
       "      <td>NaN</td>\n",
       "      <td>NaN</td>\n",
       "    </tr>\n",
       "    <tr>\n",
       "      <th>25%</th>\n",
       "      <td>69712.750000</td>\n",
       "      <td>NaN</td>\n",
       "      <td>NaN</td>\n",
       "      <td>NaN</td>\n",
       "      <td>NaN</td>\n",
       "      <td>NaN</td>\n",
       "      <td>NaN</td>\n",
       "      <td>NaN</td>\n",
       "      <td>NaN</td>\n",
       "      <td>NaN</td>\n",
       "      <td>NaN</td>\n",
       "    </tr>\n",
       "    <tr>\n",
       "      <th>50%</th>\n",
       "      <td>139424.500000</td>\n",
       "      <td>NaN</td>\n",
       "      <td>NaN</td>\n",
       "      <td>NaN</td>\n",
       "      <td>NaN</td>\n",
       "      <td>NaN</td>\n",
       "      <td>NaN</td>\n",
       "      <td>NaN</td>\n",
       "      <td>NaN</td>\n",
       "      <td>NaN</td>\n",
       "      <td>NaN</td>\n",
       "    </tr>\n",
       "    <tr>\n",
       "      <th>75%</th>\n",
       "      <td>209136.250000</td>\n",
       "      <td>NaN</td>\n",
       "      <td>NaN</td>\n",
       "      <td>NaN</td>\n",
       "      <td>NaN</td>\n",
       "      <td>NaN</td>\n",
       "      <td>NaN</td>\n",
       "      <td>NaN</td>\n",
       "      <td>NaN</td>\n",
       "      <td>NaN</td>\n",
       "      <td>NaN</td>\n",
       "    </tr>\n",
       "    <tr>\n",
       "      <th>max</th>\n",
       "      <td>278848.000000</td>\n",
       "      <td>NaN</td>\n",
       "      <td>NaN</td>\n",
       "      <td>NaN</td>\n",
       "      <td>NaN</td>\n",
       "      <td>NaN</td>\n",
       "      <td>NaN</td>\n",
       "      <td>NaN</td>\n",
       "      <td>NaN</td>\n",
       "      <td>NaN</td>\n",
       "      <td>NaN</td>\n",
       "    </tr>\n",
       "  </tbody>\n",
       "</table>\n",
       "</div>"
      ],
      "text/plain": [
       "               Ind_ID   Test_date Cough_symptoms   Fever Sore_throat  \\\n",
       "count   278848.000000      278848         278596  278596      278847   \n",
       "unique            NaN          51              2       2           2   \n",
       "top               NaN  20-04-2020          False   False       False   \n",
       "freq              NaN       10921         236368  256844      276921   \n",
       "mean    139424.500000         NaN            NaN     NaN         NaN   \n",
       "std      80496.628269         NaN            NaN     NaN         NaN   \n",
       "min          1.000000         NaN            NaN     NaN         NaN   \n",
       "25%      69712.750000         NaN            NaN     NaN         NaN   \n",
       "50%     139424.500000         NaN            NaN     NaN         NaN   \n",
       "75%     209136.250000         NaN            NaN     NaN         NaN   \n",
       "max     278848.000000         NaN            NaN     NaN         NaN   \n",
       "\n",
       "       Shortness_of_breath Headache    Corona Age_60_above     Sex  \\\n",
       "count               278847   278847    278848       151528  259285   \n",
       "unique                   2        2         3            2       2   \n",
       "top                  False    False  negative           No  female   \n",
       "freq                277270   276433    260227       125703  130158   \n",
       "mean                   NaN      NaN       NaN          NaN     NaN   \n",
       "std                    NaN      NaN       NaN          NaN     NaN   \n",
       "min                    NaN      NaN       NaN          NaN     NaN   \n",
       "25%                    NaN      NaN       NaN          NaN     NaN   \n",
       "50%                    NaN      NaN       NaN          NaN     NaN   \n",
       "75%                    NaN      NaN       NaN          NaN     NaN   \n",
       "max                    NaN      NaN       NaN          NaN     NaN   \n",
       "\n",
       "       Known_contact  \n",
       "count         278848  \n",
       "unique             3  \n",
       "top            Other  \n",
       "freq          242741  \n",
       "mean             NaN  \n",
       "std              NaN  \n",
       "min              NaN  \n",
       "25%              NaN  \n",
       "50%              NaN  \n",
       "75%              NaN  \n",
       "max              NaN  "
      ]
     },
     "execution_count": 13,
     "metadata": {},
     "output_type": "execute_result"
    }
   ],
   "source": [
    "covid.describe(include=\"all\")"
   ]
  },
  {
   "cell_type": "code",
   "execution_count": 16,
   "metadata": {},
   "outputs": [
    {
     "data": {
      "text/plain": [
       "0"
      ]
     },
     "execution_count": 16,
     "metadata": {},
     "output_type": "execute_result"
    }
   ],
   "source": [
    "covid.duplicated().sum()"
   ]
  },
  {
   "cell_type": "code",
   "execution_count": 19,
   "metadata": {},
   "outputs": [
    {
     "data": {
      "text/plain": [
       "Index(['Ind_ID', 'Test_date', 'Cough_symptoms', 'Fever', 'Sore_throat',\n",
       "       'Shortness_of_breath', 'Headache', 'Corona', 'Age_60_above', 'Sex',\n",
       "       'Known_contact'],\n",
       "      dtype='object')"
      ]
     },
     "execution_count": 19,
     "metadata": {},
     "output_type": "execute_result"
    }
   ],
   "source": [
    "covid.columns"
   ]
  },
  {
   "cell_type": "code",
   "execution_count": 35,
   "metadata": {},
   "outputs": [],
   "source": [
    "coviddrop = covid.drop(['Ind_ID'],axis=1)"
   ]
  },
  {
   "cell_type": "code",
   "execution_count": 36,
   "metadata": {},
   "outputs": [
    {
     "data": {
      "text/plain": [
       "Index(['Test_date', 'Cough_symptoms', 'Fever', 'Sore_throat',\n",
       "       'Shortness_of_breath', 'Headache', 'Corona', 'Age_60_above', 'Sex',\n",
       "       'Known_contact'],\n",
       "      dtype='object')"
      ]
     },
     "execution_count": 36,
     "metadata": {},
     "output_type": "execute_result"
    }
   ],
   "source": [
    "coviddrop.columns"
   ]
  },
  {
   "cell_type": "code",
   "execution_count": 37,
   "metadata": {},
   "outputs": [
    {
     "data": {
      "text/plain": [
       "Test_date              51\n",
       "Cough_symptoms          2\n",
       "Fever                   2\n",
       "Sore_throat             2\n",
       "Shortness_of_breath     2\n",
       "Headache                2\n",
       "Corona                  3\n",
       "Age_60_above            2\n",
       "Sex                     2\n",
       "Known_contact           3\n",
       "dtype: int64"
      ]
     },
     "execution_count": 37,
     "metadata": {},
     "output_type": "execute_result"
    }
   ],
   "source": [
    "coviddrop.nunique()"
   ]
  },
  {
   "cell_type": "code",
   "execution_count": 52,
   "metadata": {},
   "outputs": [
    {
     "data": {
      "text/plain": [
       "Test_date              [11-03-2020, 12-03-2020, 13-03-2020, 14-03-202...\n",
       "Cough_symptoms                                        [True, False, nan]\n",
       "Fever                                                 [False, True, nan]\n",
       "Sore_throat                                           [True, False, nan]\n",
       "Shortness_of_breath                                   [False, True, nan]\n",
       "Headache                                              [False, True, nan]\n",
       "Corona                                       [negative, positive, other]\n",
       "Age_60_above                                              [nan, No, Yes]\n",
       "Sex                                                  [nan, male, female]\n",
       "Known_contact                    [Abroad, Contact with confirmed, Other]\n",
       "dtype: object"
      ]
     },
     "execution_count": 52,
     "metadata": {},
     "output_type": "execute_result"
    }
   ],
   "source": [
    "# viewing unique values in each variable \n",
    "pd.Series({c:coviddrop[c].unique() for c in coviddrop})"
   ]
  },
  {
   "cell_type": "code",
   "execution_count": 45,
   "metadata": {},
   "outputs": [
    {
     "name": "stdout",
     "output_type": "stream",
     "text": [
      "----Test_date----\n",
      "Test_date\n",
      "20-04-2020    10921\n",
      "19-04-2020    10199\n",
      "22-04-2020     9646\n",
      "21-04-2020     9624\n",
      "16-04-2020     9138\n",
      "23-04-2020     8744\n",
      "01-04-2020     8654\n",
      "13-04-2020     8425\n",
      "02-04-2020     8188\n",
      "03-04-2020     8079\n",
      "17-04-2020     7645\n",
      "05-04-2020     7509\n",
      "30-04-2020     7313\n",
      "27-04-2020     7304\n",
      "15-04-2020     7149\n",
      "31-03-2020     7134\n",
      "24-04-2020     7028\n",
      "26-03-2020     6663\n",
      "14-04-2020     6571\n",
      "28-04-2020     6334\n",
      "18-04-2020     6321\n",
      "26-04-2020     6131\n",
      "12-04-2020     5984\n",
      "27-03-2020     5963\n",
      "07-04-2020     5931\n",
      "30-03-2020     5915\n",
      "10-04-2020     5678\n",
      "28-03-2020     5602\n",
      "25-03-2020     5495\n",
      "06-04-2020     5368\n",
      "29-03-2020     5277\n",
      "04-04-2020     5145\n",
      "25-04-2020     5052\n",
      "24-03-2020     4735\n",
      "09-04-2020     4539\n",
      "11-04-2020     4341\n",
      "29-04-2020     4259\n",
      "08-04-2020     4058\n",
      "22-03-2020     3565\n",
      "23-03-2020     3494\n",
      "19-03-2020     2243\n",
      "18-03-2020     1991\n",
      "20-03-2020     1870\n",
      "21-03-2020     1648\n",
      "17-03-2020     1463\n",
      "16-03-2020     1304\n",
      "15-03-2020      985\n",
      "13-03-2020      686\n",
      "12-03-2020      634\n",
      "14-03-2020      609\n",
      "11-03-2020      294\n",
      "Name: count, dtype: int64\n",
      "----Cough_symptoms----\n",
      "Cough_symptoms\n",
      "False    236368\n",
      "True      42228\n",
      "Name: count, dtype: int64\n",
      "----Fever----\n",
      "Fever\n",
      "False    256844\n",
      "True      21752\n",
      "Name: count, dtype: int64\n",
      "----Sore_throat----\n",
      "Sore_throat\n",
      "False    276921\n",
      "True       1926\n",
      "Name: count, dtype: int64\n",
      "----Shortness_of_breath----\n",
      "Shortness_of_breath\n",
      "False    277270\n",
      "True       1577\n",
      "Name: count, dtype: int64\n",
      "----Headache----\n",
      "Headache\n",
      "False    276433\n",
      "True       2414\n",
      "Name: count, dtype: int64\n",
      "----Corona----\n",
      "Corona\n",
      "negative    260227\n",
      "positive     14729\n",
      "other         3892\n",
      "Name: count, dtype: int64\n",
      "----Age_60_above----\n",
      "Age_60_above\n",
      "No     125703\n",
      "Yes     25825\n",
      "Name: count, dtype: int64\n",
      "----Sex----\n",
      "Sex\n",
      "female    130158\n",
      "male      129127\n",
      "Name: count, dtype: int64\n",
      "----Known_contact----\n",
      "Known_contact\n",
      "Other                     242741\n",
      "Abroad                     25468\n",
      "Contact with confirmed     10639\n",
      "Name: count, dtype: int64\n"
     ]
    }
   ],
   "source": [
    "for c in coviddrop.columns:\n",
    "    print(\"----%s----\"% c)\n",
    "    print(covid[c].value_counts())"
   ]
  },
  {
   "cell_type": "code",
   "execution_count": 46,
   "metadata": {},
   "outputs": [
    {
     "data": {
      "text/plain": [
       "Cough_symptoms\n",
       "False    236368\n",
       "True      42228\n",
       "Name: count, dtype: int64"
      ]
     },
     "execution_count": 46,
     "metadata": {},
     "output_type": "execute_result"
    }
   ],
   "source": [
    "coviddrop['Cough_symptoms'].value_counts()"
   ]
  },
  {
   "cell_type": "code",
   "execution_count": 49,
   "metadata": {},
   "outputs": [],
   "source": [
    "covidfilled = coviddrop.dropna(subset=['Cough_symptoms','Fever','Sore_throat','Shortness_of_breath','Headache'])"
   ]
  },
  {
   "cell_type": "code",
   "execution_count": 50,
   "metadata": {},
   "outputs": [
    {
     "data": {
      "text/html": [
       "<div>\n",
       "<style scoped>\n",
       "    .dataframe tbody tr th:only-of-type {\n",
       "        vertical-align: middle;\n",
       "    }\n",
       "\n",
       "    .dataframe tbody tr th {\n",
       "        vertical-align: top;\n",
       "    }\n",
       "\n",
       "    .dataframe thead th {\n",
       "        text-align: right;\n",
       "    }\n",
       "</style>\n",
       "<table border=\"1\" class=\"dataframe\">\n",
       "  <thead>\n",
       "    <tr style=\"text-align: right;\">\n",
       "      <th></th>\n",
       "      <th>Test_date</th>\n",
       "      <th>Cough_symptoms</th>\n",
       "      <th>Fever</th>\n",
       "      <th>Sore_throat</th>\n",
       "      <th>Shortness_of_breath</th>\n",
       "      <th>Headache</th>\n",
       "      <th>Corona</th>\n",
       "      <th>Age_60_above</th>\n",
       "      <th>Sex</th>\n",
       "      <th>Known_contact</th>\n",
       "    </tr>\n",
       "  </thead>\n",
       "  <tbody>\n",
       "    <tr>\n",
       "      <th>0</th>\n",
       "      <td>11-03-2020</td>\n",
       "      <td>True</td>\n",
       "      <td>False</td>\n",
       "      <td>True</td>\n",
       "      <td>False</td>\n",
       "      <td>False</td>\n",
       "      <td>negative</td>\n",
       "      <td>NaN</td>\n",
       "      <td>NaN</td>\n",
       "      <td>Abroad</td>\n",
       "    </tr>\n",
       "    <tr>\n",
       "      <th>1</th>\n",
       "      <td>11-03-2020</td>\n",
       "      <td>False</td>\n",
       "      <td>True</td>\n",
       "      <td>False</td>\n",
       "      <td>False</td>\n",
       "      <td>False</td>\n",
       "      <td>positive</td>\n",
       "      <td>NaN</td>\n",
       "      <td>NaN</td>\n",
       "      <td>Abroad</td>\n",
       "    </tr>\n",
       "    <tr>\n",
       "      <th>2</th>\n",
       "      <td>11-03-2020</td>\n",
       "      <td>False</td>\n",
       "      <td>True</td>\n",
       "      <td>False</td>\n",
       "      <td>False</td>\n",
       "      <td>False</td>\n",
       "      <td>positive</td>\n",
       "      <td>NaN</td>\n",
       "      <td>NaN</td>\n",
       "      <td>Abroad</td>\n",
       "    </tr>\n",
       "    <tr>\n",
       "      <th>3</th>\n",
       "      <td>11-03-2020</td>\n",
       "      <td>True</td>\n",
       "      <td>False</td>\n",
       "      <td>False</td>\n",
       "      <td>False</td>\n",
       "      <td>False</td>\n",
       "      <td>negative</td>\n",
       "      <td>NaN</td>\n",
       "      <td>NaN</td>\n",
       "      <td>Abroad</td>\n",
       "    </tr>\n",
       "    <tr>\n",
       "      <th>4</th>\n",
       "      <td>11-03-2020</td>\n",
       "      <td>True</td>\n",
       "      <td>False</td>\n",
       "      <td>False</td>\n",
       "      <td>False</td>\n",
       "      <td>False</td>\n",
       "      <td>negative</td>\n",
       "      <td>NaN</td>\n",
       "      <td>NaN</td>\n",
       "      <td>Contact with confirmed</td>\n",
       "    </tr>\n",
       "  </tbody>\n",
       "</table>\n",
       "</div>"
      ],
      "text/plain": [
       "    Test_date Cough_symptoms  Fever Sore_throat Shortness_of_breath Headache  \\\n",
       "0  11-03-2020           True  False        True               False    False   \n",
       "1  11-03-2020          False   True       False               False    False   \n",
       "2  11-03-2020          False   True       False               False    False   \n",
       "3  11-03-2020           True  False       False               False    False   \n",
       "4  11-03-2020           True  False       False               False    False   \n",
       "\n",
       "     Corona Age_60_above  Sex           Known_contact  \n",
       "0  negative          NaN  NaN                  Abroad  \n",
       "1  positive          NaN  NaN                  Abroad  \n",
       "2  positive          NaN  NaN                  Abroad  \n",
       "3  negative          NaN  NaN                  Abroad  \n",
       "4  negative          NaN  NaN  Contact with confirmed  "
      ]
     },
     "execution_count": 50,
     "metadata": {},
     "output_type": "execute_result"
    }
   ],
   "source": [
    "covidfilled.head()"
   ]
  },
  {
   "cell_type": "code",
   "execution_count": 53,
   "metadata": {},
   "outputs": [
    {
     "data": {
      "text/plain": [
       "Test_date              [11-03-2020, 12-03-2020, 13-03-2020, 14-03-202...\n",
       "Cough_symptoms                                             [True, False]\n",
       "Fever                                                      [False, True]\n",
       "Sore_throat                                                [True, False]\n",
       "Shortness_of_breath                                        [False, True]\n",
       "Headache                                                   [False, True]\n",
       "Corona                                       [negative, positive, other]\n",
       "Age_60_above                                              [nan, No, Yes]\n",
       "Sex                                                  [nan, male, female]\n",
       "Known_contact                    [Abroad, Contact with confirmed, Other]\n",
       "dtype: object"
      ]
     },
     "execution_count": 53,
     "metadata": {},
     "output_type": "execute_result"
    }
   ],
   "source": [
    "# viewing unique values in each variable \n",
    "pd.Series({c:covidfilled[c].unique() for c in covidfilled})"
   ]
  },
  {
   "cell_type": "code",
   "execution_count": 56,
   "metadata": {},
   "outputs": [
    {
     "data": {
      "text/plain": [
       "Corona\n",
       "negative    260008\n",
       "positive     14694\n",
       "other         3892\n",
       "Name: count, dtype: int64"
      ]
     },
     "execution_count": 56,
     "metadata": {},
     "output_type": "execute_result"
    }
   ],
   "source": [
    "covidfilled['Corona'].value_counts()"
   ]
  },
  {
   "cell_type": "code",
   "execution_count": 57,
   "metadata": {},
   "outputs": [
    {
     "data": {
      "text/plain": [
       "Age_60_above\n",
       "No     125504\n",
       "Yes     25775\n",
       "Name: count, dtype: int64"
      ]
     },
     "execution_count": 57,
     "metadata": {},
     "output_type": "execute_result"
    }
   ],
   "source": [
    "covidfilled['Age_60_above'].value_counts()"
   ]
  },
  {
   "cell_type": "code",
   "execution_count": 58,
   "metadata": {},
   "outputs": [
    {
     "data": {
      "text/plain": [
       "Sex\n",
       "female    130030\n",
       "male      129012\n",
       "Name: count, dtype: int64"
      ]
     },
     "execution_count": 58,
     "metadata": {},
     "output_type": "execute_result"
    }
   ],
   "source": [
    "covidfilled['Sex'].value_counts()"
   ]
  }
 ],
 "metadata": {
  "kernelspec": {
   "display_name": "base",
   "language": "python",
   "name": "python3"
  },
  "language_info": {
   "codemirror_mode": {
    "name": "ipython",
    "version": 3
   },
   "file_extension": ".py",
   "mimetype": "text/x-python",
   "name": "python",
   "nbconvert_exporter": "python",
   "pygments_lexer": "ipython3",
   "version": "3.11.5"
  }
 },
 "nbformat": 4,
 "nbformat_minor": 2
}
